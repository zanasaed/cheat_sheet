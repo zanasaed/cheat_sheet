{
  "nbformat": 4,
  "nbformat_minor": 0,
  "metadata": {
    "colab": {
      "name": "ElasticSearch.ipynb",
      "provenance": [],
      "authorship_tag": "ABX9TyPV3Czs8KlbZtYyZ0IGPkul",
      "include_colab_link": true
    },
    "kernelspec": {
      "name": "python3",
      "display_name": "Python 3"
    },
    "language_info": {
      "name": "python"
    }
  },
  "cells": [
    {
      "cell_type": "markdown",
      "metadata": {
        "id": "view-in-github",
        "colab_type": "text"
      },
      "source": [
        "<a href=\"https://colab.research.google.com/github/zanasaed/NoteBook/blob/main/ElasticSearch.ipynb\" target=\"_parent\"><img src=\"https://colab.research.google.com/assets/colab-badge.svg\" alt=\"Open In Colab\"/></a>"
      ]
    },
    {
      "cell_type": "markdown",
      "metadata": {
        "id": "Qkqmnz531SiI"
      },
      "source": [
        "#Links of library and tutorial "
      ]
    },
    {
      "cell_type": "code",
      "metadata": {
        "id": "SS722mtc1PWw"
      },
      "source": [
        "    "
      ],
      "execution_count": null,
      "outputs": []
    },
    {
      "cell_type": "markdown",
      "metadata": {
        "id": "cUdsK2d61cvs"
      },
      "source": [
        "# definition \n"
      ]
    },
    {
      "cell_type": "markdown",
      "metadata": {
        "id": "FiPiMq6nQmR2"
      },
      "source": [
        "## Key Concepts\n",
        "**Node**\n",
        "\n",
        "It refers to a single running instance of Elasticsearch. Single physical and virtual server accommodates multiple nodes depending upon the capabilities of their physical resources like RAM, storage and processing power.\n",
        "\n",
        "**Cluster**\n",
        "\n",
        "It is a collection of one or more nodes. Cluster provides collective indexing and search capabilities across all the nodes for entire data.\n",
        "\n",
        "**Index**\n",
        "\n",
        "It is a collection of different type of documents and their properties. Index also uses the concept of shards to improve the performance. For example, a set of document contains data of a social networking application.\n",
        "\n",
        "**Document**\n",
        "\n",
        "It is a collection of fields in a specific manner defined in JSON format. Every document belongs to a type and resides inside an index. Every document is associated with a unique identifier called the UID.\n",
        "\n",
        "**Shard**\n",
        "\n",
        "Indexes are horizontally subdivided into shards. This means each shard contains all the properties of document but contains less number of JSON objects than index. The horizontal separation makes shard an independent node, which can be store in any node. Primary shard is the original horizontal part of an index and then these primary shards are replicated into replica shards.\n",
        "\n",
        "**Replicas**\n",
        "\n",
        "Elasticsearch allows a user to create replicas of their indexes and shards. Replication not only helps in increasing the availability of data in case of failure, but also improves the performance of searching by carrying out a parallel search operation in these replicas.\n",
        "\n",
        "\n"
      ]
    },
    {
      "cell_type": "code",
      "metadata": {
        "id": "iovPQMmaQwg1"
      },
      "source": [
        ""
      ],
      "execution_count": null,
      "outputs": []
    },
    {
      "cell_type": "code",
      "metadata": {
        "id": "kbgckAz31jqb"
      },
      "source": [
        ""
      ],
      "execution_count": null,
      "outputs": []
    },
    {
      "cell_type": "markdown",
      "metadata": {
        "id": "Qhkln3s-xScz"
      },
      "source": [
        "# Search"
      ]
    },
    {
      "cell_type": "code",
      "metadata": {
        "id": "xi9MLnTWxVUh"
      },
      "source": [
        ""
      ],
      "execution_count": null,
      "outputs": []
    },
    {
      "cell_type": "markdown",
      "metadata": {
        "id": "DbfdaEGPxXmf"
      },
      "source": [
        "## **query lite** \n",
        "for search simple and fast we can usae this format query in web browser \n",
        "\n",
        "\n",
        "INDEX/TYPE/_search?q=title:str\n",
        "\n",
        "movies/move/_search?q=+year:>2010+title:trek\n",
        "\n",
        "\n",
        "example\n",
        "http://localhost:9200/digikala/seller/_search?q=kind:seller_data\n"
      ]
    },
    {
      "cell_type": "markdown",
      "metadata": {
        "id": "qpodxsIly6-E"
      },
      "source": [
        "The problem is when you're sending across urls you need to encode them very often and that can make things very confusing very quickly.\n",
        "\n",
        "\n",
        "So you couldn't actually reliably send across that string as is as part of a rest request you would have to url rncoded it in order to securely transmit it over the Internet. And that means that any special characters need to be encoded into their hexadecimal equivalency or encoded out.\n",
        "\n",
        "\n",
        "If you want learn more just search for URI  search.\n",
        "That's what's formally known these days and elasticsearch.\n",
        "If you go to elasticsearch Web site on elastic.co and search for URI search you'll see the\n",
        "full documentation on how to construct these things.\n",
        "\n"
      ]
    },
    {
      "cell_type": "code",
      "metadata": {
        "id": "1FVsy0PIxd-t"
      },
      "source": [
        ""
      ],
      "execution_count": null,
      "outputs": []
    }
  ]
}